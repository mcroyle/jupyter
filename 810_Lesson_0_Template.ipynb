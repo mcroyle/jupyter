{
 "cells": [
  {
   "cell_type": "markdown",
   "metadata": {},
   "source": [
    "# <h1 align=\"center\"> EGEE 437/597B: Homework #1</h1> "
   ]
  },
  {
   "cell_type": "markdown",
   "metadata": {},
   "source": [
    "<h2 align=\"center\"> <i> SOLUTIONS </i> </h2>"
   ]
  },
  {
   "cell_type": "markdown",
   "metadata": {},
   "source": [
    "<h4 align=\"center\"> <i> Due Date: Thursday, Jan, 14, 2027 </i> </h4>\n",
    "<h4 align=\"center\"> <i> Brownson </i> </h4>\n",
    "<h4 align=\"center\"> YOUR NAME (OR GROUP NAME) HERE </h4>"
   ]
  },
  {
   "cell_type": "code",
   "execution_count": 18,
   "metadata": {},
   "outputs": [
    {
     "ename": "ImportError",
     "evalue": "No module named 'scipy'",
     "output_type": "error",
     "traceback": [
      "\u001b[0;31m---------------------------------------------------------------------------\u001b[0m",
      "\u001b[0;31mImportError\u001b[0m                               Traceback (most recent call last)",
      "\u001b[0;32m<ipython-input-18-76ec42ad3a2f>\u001b[0m in \u001b[0;36m<module>\u001b[0;34m()\u001b[0m\n\u001b[1;32m      3\u001b[0m \u001b[0;32mimport\u001b[0m \u001b[0msys\u001b[0m \u001b[0;31m#Information about the system\u001b[0m\u001b[0;34m\u001b[0m\u001b[0m\n\u001b[1;32m      4\u001b[0m \u001b[0;32mimport\u001b[0m \u001b[0mnumpy\u001b[0m \u001b[0;32mas\u001b[0m \u001b[0mnp\u001b[0m \u001b[0;31m# \"NumPy is the fundamental package for scientific computing with Python.\" np is how you call the package\u001b[0m\u001b[0;34m\u001b[0m\u001b[0m\n\u001b[0;32m----> 5\u001b[0;31m \u001b[0;32mimport\u001b[0m \u001b[0mscipy\u001b[0m \u001b[0;32mas\u001b[0m \u001b[0msp\u001b[0m \u001b[0;31m#\"SciPy is a Python-based ecosystem of open-source software for mathematics, science, and engineering.\"\u001b[0m\u001b[0;34m\u001b[0m\u001b[0m\n\u001b[0m\u001b[1;32m      6\u001b[0m \u001b[0;32mimport\u001b[0m \u001b[0msp\u001b[0m\u001b[0;34m.\u001b[0m\u001b[0mintegrate\u001b[0m \u001b[0;32mas\u001b[0m \u001b[0mintegrate\u001b[0m\u001b[0;34m\u001b[0m\u001b[0m\n\u001b[1;32m      7\u001b[0m \u001b[0;32mimport\u001b[0m \u001b[0msp\u001b[0m\u001b[0;34m.\u001b[0m\u001b[0mspecial\u001b[0m \u001b[0;32mas\u001b[0m \u001b[0mspecial\u001b[0m\u001b[0;34m\u001b[0m\u001b[0m\n",
      "\u001b[0;31mImportError\u001b[0m: No module named 'scipy'"
     ]
    }
   ],
   "source": [
    "# Loading the main packages here:\n",
    "\n",
    "import sys #Information about the system\n",
    "import numpy as np # \"NumPy is the fundamental package for scientific computing with Python.\" np is how you call the package\n",
    "import scipy as sp #\"SciPy is a Python-based ecosystem of open-source software for mathematics, science, and engineering.\" \n",
    "import scipy.integrate as integrate\n",
    "import scipy.special as special\n",
    "import math\n",
    "import matplotlib # \"Matplotlib is a Python 2D plotting library which produces publication quality figures...\"\n",
    "from IPython.display import Image # Allows the user to import images by using the command \"Image\"\n",
    "\n",
    "%pylab inline \n",
    "#Plots are shown below the code cell instead in a new window."
   ]
  },
  {
   "cell_type": "code",
   "execution_count": 3,
   "metadata": {
    "collapsed": true
   },
   "outputs": [],
   "source": [
    "# Defining trigonometric functions\n",
    "\n",
    "def cosd(x):\n",
    "    return cos(radians(x))\n",
    "  \n",
    "def sind(x):\n",
    "    return sin(radians(x))\n",
    "  \n",
    "def tand(x):\n",
    "    return tan(radians(x))\n",
    "  \n",
    "def acosd(x):\n",
    "    return degrees(np.arccos(x))\n",
    "  \n",
    "def asind(x):\n",
    "    return degrees(np.arcsin(x))\n",
    "  \n",
    "def atand(x):\n",
    "    return degrees(np.arctan(x))"
   ]
  },
  {
   "cell_type": "code",
   "execution_count": 17,
   "metadata": {},
   "outputs": [
    {
     "name": "stdout",
     "output_type": "stream",
     "text": [
      "3.4.2 (default, Oct 22 2016, 19:22:30) \n",
      "[GCC 4.8.5 20150623 (Red Hat 4.8.5-4)]\n"
     ]
    }
   ],
   "source": [
    "print (sys.version) # Checks which version of Python you're using (and Anaconda, if you're using it)."
   ]
  },
  {
   "cell_type": "markdown",
   "metadata": {},
   "source": [
    "<font face=\"Courier\" color=\"green\" size=\"4\"><b>\n",
    "Answer Tips  </b>\n",
    "</font><br /> "
   ]
  },
  {
   "cell_type": "raw",
   "metadata": {},
   "source": [
    "Answer tip 1: to run a cell: hit SHIFT+ENTER"
   ]
  },
  {
   "cell_type": "raw",
   "metadata": {},
   "source": [
    "Answer tip 2: you'll see some cells showing a text like \"Use this cell to answer item 2\". \n",
    "When you double click the cell, the following code should appear:\n",
    "\n",
    "<font face=\"Courier\" size=\"3\">\n",
    "Use this cell to answer item 2.\n",
    "</font><br /> \n",
    "\n",
    "PLEASE, paste (or write) your answer over where is written \"Use this cell to answer item 2.\". Erase that and enter your text. DO NOT change the <font face=\"Courier\" size=\"3\"> or </font><br />. Those are commands.\n",
    "\n",
    "> Shift+Enter to run"
   ]
  },
  {
   "cell_type": "markdown",
   "metadata": {},
   "source": [
    "## Problem 1 "
   ]
  },
  {
   "cell_type": "markdown",
   "metadata": {},
   "source": [
    "<font size=\"3\">You are inside a room on June 21 at noon in Philadelphia, PA. The room is oriented along a north-south axis, with a south-facing window, and a lamp on in the northeast corner, you are standing near the west wall facing the center of the room.  Sketch a diagram of all relevant emitter surfaces and receiver surfaces for shortwave radiance.</font>"
   ]
  },
  {
   "cell_type": "markdown",
   "metadata": {},
   "source": [
    "<i> Tips: there are many possible ways to sketch this diagram: \n",
    "<ul>\n",
    "<li> Draw it by hand and upload the picture; </li>\n",
    "<li> Use a software (e.g., Corel Draw, Inkscape, etc.) to sketch it and then upload the sketch. </li>\n",
    "</ul>\n",
    "\n",
    "To upload your diagram: change the destination path and the filename of the command \"Image\" below (attention: use \"/\"). </i>"
   ]
  },
  {
   "cell_type": "markdown",
   "metadata": {},
   "source": [
    "### Answers "
   ]
  },
  {
   "cell_type": "code",
   "execution_count": 15,
   "metadata": {},
   "outputs": [
    {
     "data": {
      "text/html": [
       "<img src=\"http://www.w3schools.com/css/trolltunga.jpg\" width=\"500\"/>"
      ],
      "text/plain": [
       "<IPython.core.display.Image object>"
      ]
     },
     "execution_count": 15,
     "metadata": {},
     "output_type": "execute_result"
    }
   ],
   "source": [
    "### Double click this (and any) cell to edit it... ###\n",
    "\n",
    "## This is just an example:\n",
    "# To adjust the size of your figure, change the \"width\" parameter.\n",
    "from IPython.display import Image\n",
    "Image(url='http://www.w3schools.com/css/trolltunga.jpg', width=500) #CHANGE HERE\n",
    "# You can include files like: .png; .jpg; .pdf ..."
   ]
  },
  {
   "cell_type": "markdown",
   "metadata": {},
   "source": [
    "## Problem 2 "
   ]
  },
  {
   "cell_type": "markdown",
   "metadata": {},
   "source": [
    "<font size=\"3\">\n",
    "You are to evaluate the greenhouse effect on Earth. \n",
    "\n",
    "<ol type=\"a\">\n",
    "    <li> In a cross-section sketch, draw the relevant emitter surfaces and receiver surfaces for longwave radiance. </li> \n",
    "\t<li> What are the main sources (emitters) of the longwave radiance? </li>\n",
    "</ol>\n",
    "</font>"
   ]
  },
  {
   "cell_type": "markdown",
   "metadata": {},
   "source": [
    "### Answers "
   ]
  },
  {
   "cell_type": "markdown",
   "metadata": {},
   "source": [
    "<font face=\"sans-serif\" size=\"3\"><b> 1. </b></font>"
   ]
  },
  {
   "cell_type": "markdown",
   "metadata": {},
   "source": [
    "### HELLO"
   ]
  },
  {
   "cell_type": "code",
   "execution_count": 5,
   "metadata": {
    "collapsed": true
   },
   "outputs": [],
   "source": [
    "## This is just an example:\n",
    "# To adjust the size of your figure, change the \"width\" parameter.\n",
    "\n",
    "# Image(filename='filename_here/change/it/payattention.wow', width=\"200\") #UNCOMMENT HERE AND INCLUDE YOUR FILE DESTINATION\n",
    "# You can include files like: .png; .jpg; .pdf ..."
   ]
  },
  {
   "cell_type": "markdown",
   "metadata": {},
   "source": [
    "<font face=\"sans-serif\" size=\"3\"><b> 2. </b></font>"
   ]
  },
  {
   "cell_type": "markdown",
   "metadata": {},
   "source": [
    "<font face=\"Courier\" size=\"3\">\n",
    "<b>The three main sources emitting longwave light are the Earth and the two surfaces of Earth's atmosphere.</b> Note that longwave light to the atmosphere is absorbed from Earth and then re-emitted up and down from the atmosphere.\n",
    "</font><br /> "
   ]
  },
  {
   "cell_type": "markdown",
   "metadata": {},
   "source": [
    "## Problem 3"
   ]
  },
  {
   "cell_type": "markdown",
   "metadata": {},
   "source": [
    "<font size=\"3\">A laser pointer can emit 5 mW of monochromatic green (532 nm) light that is collimated and has a cross-sectional diameter of 5 mm (circular).\n",
    "<ol type='a'>\n",
    "    <li> What is the irradiance normal to the beam? </li> \n",
    "\t<li> Find the irradiance on a horizontal surface for the optical air mass 1.5 (AM1.5) and compare the laser irradiance with the value for a typical clear sky afternoon.</li>\n",
    "\t<li> List three properties of unconcentrated solar irradiance that are different from laser irradiance to explain the difference. </li>\n",
    "</ol>\n",
    "</font>"
   ]
  },
  {
   "cell_type": "markdown",
   "metadata": {},
   "source": [
    "<i> Tip: not familiar with writing equations in LaTex? Take a look at some useful links:\n",
    "<ul>\n",
    "<li> https://www.sharelatex.com/learn/Mathematical_expressions </li>\n",
    "<li> http://www.math.hkbu.edu.hk/TeX/short-math-guide.pdf </li>\n",
    "</ul>\n",
    "</i>"
   ]
  },
  {
   "cell_type": "markdown",
   "metadata": {},
   "source": [
    "### Answers "
   ]
  },
  {
   "cell_type": "markdown",
   "metadata": {},
   "source": [
    "<font face=\"sans-serif\" size=\"3\"><b> 1. </b></font>"
   ]
  },
  {
   "cell_type": "code",
   "execution_count": 6,
   "metadata": {},
   "outputs": [
    {
     "data": {
      "text/plain": [
       "254.64790894703256"
      ]
     },
     "execution_count": 6,
     "metadata": {},
     "output_type": "execute_result"
    }
   ],
   "source": [
    "### Calculations HERE ###\n",
    "\n",
    "# Needed Constants - Those are ACTUALLY NEEDED!\n",
    "pi = np.pi # the number pi is actually known by numpy, by using np.pi\n",
    "lp = 5e-3 # This is the power of the laser, 5 mW = 0.005 W. 5e-3 tells python this conversion. lp = laser power\n",
    "radius = 2.5e-3 # Laser pointer cross sectional radius\n",
    "area = pi*radius**2 # HEY! pay attention on how radius was squared here. Instead of using ^ you write **\n",
    "\n",
    "# >>> Now you have to write your equation. The equation below is just an EXAMPLE! Use the structure to get your answer! <<<\n",
    "\n",
    "normal = lp/area\n",
    "normal\n",
    "\n",
    "# After you get your answer, write down the equation, your considerations (if any), and the final answer in the cell below."
   ]
  },
  {
   "cell_type": "markdown",
   "metadata": {
    "collapsed": true
   },
   "source": [
    "<font face=\"Courier\" size=\"3\">\n",
    "Irradiance is power per unit area: $E = \\frac{\\text{Power}}{\\pi \\cdot r^2} = 254.648\\ W/m^2$\n",
    "\n",
    "<b>ANS: Laser irradiance is $255\\ W/m^2 $.</b>\n",
    "</font><br /> "
   ]
  },
  {
   "cell_type": "markdown",
   "metadata": {},
   "source": [
    "<font face=\"sans-serif\" size=\"3\"><b> 2. </b></font>"
   ]
  },
  {
   "cell_type": "code",
   "execution_count": 7,
   "metadata": {},
   "outputs": [
    {
     "data": {
      "text/plain": [
       "3.926990816987241"
      ]
     },
     "execution_count": 7,
     "metadata": {},
     "output_type": "execute_result"
    }
   ],
   "source": [
    "# Use this space if you have to calculate values. Final answer must be inserted in the next cell.\n",
    "AM15 = 1000 #W/m^2\n",
    "\n",
    "day_laser = AM15/normal\n",
    "day_laser"
   ]
  },
  {
   "cell_type": "markdown",
   "metadata": {},
   "source": [
    "<font face=\"Courier\" size=\"3\">\n",
    "Air Mass 1.5 (AM1.5): \"Air mass coeffcient used for testing solar technologies in the laboratory.\n",
    "1000W/m2 of simulated solar light, characteristic of midlatitude USA ideal clear sky conditions.\" (Brownson, 2014)\n",
    "Therefore solar irradiation for a typical clear sky afternoon is almost four times greater than the laser irradiation. One would have to make a 20 mW laser to achieve a similar irradiance.\n",
    "</font>"
   ]
  },
  {
   "cell_type": "markdown",
   "metadata": {},
   "source": [
    "<font face=\"sans-serif\" size=\"3\"><b> 3. </b></font>"
   ]
  },
  {
   "cell_type": "markdown",
   "metadata": {},
   "source": [
    "<font face=\"Courier\" size=\"3\">\n",
    "Solar irradiance is a source of polychromatic from the thermal emission, non-collimated, and incoherent light; while laser is a monocromathic, collimated, and coherent source of light.\n",
    "</font><br /> "
   ]
  },
  {
   "cell_type": "markdown",
   "metadata": {},
   "source": [
    "## Problem 4"
   ]
  },
  {
   "cell_type": "markdown",
   "metadata": {},
   "source": [
    "<font size=\"3\">Write down a code to calculate blackbody fractions by numerical approximation. You will use this script in the next question.</font>"
   ]
  },
  {
   "cell_type": "markdown",
   "metadata": {},
   "source": [
    "### Answers "
   ]
  },
  {
   "cell_type": "code",
   "execution_count": 25,
   "metadata": {},
   "outputs": [
    {
     "name": "stdout",
     "output_type": "stream",
     "text": [
      "Total fraction of energy for wavelength: 0.965755197835\n"
     ]
    }
   ],
   "source": [
    "#CODE adapted from JRSB (Sept 2012)\n",
    "\n",
    "### Inputs ###\n",
    "# Approximation of blackbody table using nm inputs instead of micrometer inputs:\n",
    "T = 5777 # blackbody temperature\n",
    "h = 6.625e-34 # Planck Constant (J*s)\n",
    "c = 2.998e17 # speed of light (nm/s)\n",
    "k = 1.381e-23 # Boltzmann constant J/K\n",
    "lambda_nm = 2500 # Enter the wavelength manually \n",
    "\n",
    "# Needed function gamma:\n",
    "C2nm = h*c/k\n",
    "gamma = C2nm/(lambda_nm*T)\n",
    "\n",
    "# Making a column of 10 integers to sum the fraction\n",
    "n = np.arange(1.0,11.0,1.0)\n",
    "\n",
    "#Numerical approximation of equation in SECS textbook\n",
    "frac = (15.0/pi**4)*(exp(-n*gamma)/n)*(gamma**3 + (3.0*gamma**2)/n + (6.*gamma)/n**2 + (6)/n**3)\n",
    "frac\n",
    "\n",
    "# Final results\n",
    "lambda_nm*T\n",
    "fraction = sum(frac)\n",
    "print(\"Total fraction of energy for wavelength:\", fraction)"
   ]
  },
  {
   "cell_type": "markdown",
   "metadata": {},
   "source": [
    "## Problem 5"
   ]
  },
  {
   "cell_type": "markdown",
   "metadata": {},
   "source": [
    "<font size=\"3\">\n",
    "The human body has a surface area of $\\sim 2\\ m^2$, and the surface temperature of bare skin is 32$^\\circ$C (The area of the human body is presented just as a cool information, you won't use it to solve the following items. However, you MUST be careful with units ($\\mu m$ and $\\eta m$)).\n",
    "<ol type=\"a\">\n",
    "\t<li> Given the emissivity of the human body is $\\epsilon = 0.97$, what is our radiant exitance (or radiance integrated across all angles) in $W/m^2$? </li>\n",
    "\t<li> Now evaluate the fraction of greybody radiant exitance from humans that will pass through the \"sky window\" from 8-14 $\\mu m$. </li>\n",
    "    <li> Present the exitance value in $W/m^2$. </li>\n",
    "</ol>\n",
    "</font>"
   ]
  },
  {
   "cell_type": "markdown",
   "metadata": {},
   "source": [
    "### Answers "
   ]
  },
  {
   "cell_type": "markdown",
   "metadata": {},
   "source": [
    "<font face=\"sans-serif\" size=\"3\"><b> 1. </b></font>"
   ]
  },
  {
   "cell_type": "code",
   "execution_count": 26,
   "metadata": {},
   "outputs": [
    {
     "data": {
      "text/plain": [
       "476.85386955187386"
      ]
     },
     "execution_count": 26,
     "metadata": {},
     "output_type": "execute_result"
    }
   ],
   "source": [
    "## Inputs ##\n",
    "e = 0.97 # emittance value\n",
    "sig = 5.6697e-8 # Stefan–Boltzmann Constant\n",
    "Temp = (32+273.15) # Temp in Kelvin\n",
    "\n",
    "## Calculation ##\n",
    "\n",
    "E = e*sig*Temp**4\n",
    "E"
   ]
  },
  {
   "cell_type": "markdown",
   "metadata": {},
   "source": [
    "<font face=\"Courier\" size=\"3\">\n",
    "The radiant exitance can be calculated as follows:\n",
    "\n",
    "\\begin{align}\n",
    "\\epsilon \\times {E_b} & = \\epsilon \\sigma T^{4} \\nonumber \\\\\n",
    "               & \\nonumber  \\\\\n",
    "               & = (0.97) \\times [5.67 \\times 10^{-8}\\ W/m^{2}\\, K^{4}] (32+273.15)K^4  \\\\\n",
    "                & =  476.88 W/m^2 \n",
    "\\end{align}\n",
    "\n",
    "<b>ANS: The radiant exitance is $\\epsilon \\times {E_b} = 477\\ W/m^2 $.</b>\n",
    "</font><br /> "
   ]
  },
  {
   "cell_type": "markdown",
   "metadata": {},
   "source": [
    "<font face=\"sans-serif\" size=\"3\"><b> 2. </b></font>"
   ]
  },
  {
   "cell_type": "code",
   "execution_count": 27,
   "metadata": {},
   "outputs": [
    {
     "data": {
      "text/plain": [
       "0.38"
      ]
     },
     "execution_count": 27,
     "metadata": {},
     "output_type": "execute_result"
    }
   ],
   "source": [
    "# Using the script coded in question 4, it is possible just to take the difference between the wavelenghts:\n",
    "# f = fraction(14)-fraction(8)\n",
    "\n",
    "f = 0.53 - 0.15\n",
    "f\n"
   ]
  },
  {
   "cell_type": "markdown",
   "metadata": {},
   "source": [
    "<font face=\"Courier\" size=\"3\">\n",
    "$\\lambda T_{1}$ for 8 $\\mu m$: $8\\ \\mu m \\times (32+273.15)K = 2441.2\\ \\mu m K$<br/>\n",
    "Fraction is : 0.15 at 8000 nm<p>\n",
    "\n",
    "$\\lambda T_{2}$ for 14 $\\mu m$: $14\\ \\mu m \\times (32+273.15)K = 4272.1\\ \\mu m K$<br/>\n",
    "Fraction is : 0.53 at 14,000 nm<p>\n",
    "\n",
    "By subtracting the fractions for each, we arrive at the correct fraction emitted through the sky window: $f_{8-14}$.\n",
    "\n",
    "<b>ANS: The fraction between 8-14 $\\mu m$: $f_{8-14} = 0.38$</b>\n",
    "</font><br /> "
   ]
  },
  {
   "cell_type": "markdown",
   "metadata": {},
   "source": [
    "<font face=\"sans-serif\" size=\"3\"><b> 3. </b></font>"
   ]
  },
  {
   "cell_type": "code",
   "execution_count": 28,
   "metadata": {},
   "outputs": [
    {
     "data": {
      "text/plain": [
       "181.20447042971207"
      ]
     },
     "execution_count": 28,
     "metadata": {},
     "output_type": "execute_result"
    }
   ],
   "source": [
    "# Exitance(8_14) = f(8_14)*e*sigma*Temp**4 = f*E\n",
    "exit = f*E\n",
    "exit"
   ]
  },
  {
   "cell_type": "markdown",
   "metadata": {},
   "source": [
    "<font face=\"Courier\" size=\"3\">\n",
    "\n",
    "The radiant exitance can be calculated by the following equation:<br/>\n",
    "\\begin{equation}\n",
    "E_{8-14} = f_{8-14} \\cdot \\epsilon \\cdot \\sigma T^4\n",
    "\\end{equation} <p>\n",
    "\n",
    "\\begin{equation}\n",
    "E_{8-14} = 0.38 \\cdot 476.88\\ W/m^2 = 181.21\\ W/m^2\n",
    "\\end{equation}\n",
    "\n",
    "<b>ANS: The radiant exitance between 8-14 $\\mu m$: $E_{8-14} = 181\\ W/m^2$.</b>\n",
    "</font><br /> "
   ]
  },
  {
   "cell_type": "markdown",
   "metadata": {},
   "source": [
    "## Problem 6 "
   ]
  },
  {
   "cell_type": "markdown",
   "metadata": {},
   "source": [
    "<font size=\"3\">\n",
    "The unit area intensity of radiation from the Sun at the photosphere is $6.33 \\times 10^7$ $W/m^2$.\n",
    "<ol type=\"a\">\n",
    "\t<li>  Check this value using the Stefan-Boltzmann Law, assuming the Sun is a blackbody emitter ($\\epsilon = 1$) with a surface temperature of 5777K. </li>\n",
    "\t<li> Using the Inverse Square Law and the known solar constant given for  extraterrestrial Earth (1361 $W/m^2$), what are the solar constants calculated for the surfaces of Venus and Mars? </li>\n",
    "</ol>\n",
    "</font>"
   ]
  },
  {
   "cell_type": "markdown",
   "metadata": {},
   "source": [
    "### Answers "
   ]
  },
  {
   "cell_type": "markdown",
   "metadata": {},
   "source": [
    "<font face=\"sans-serif\" size=\"3\"><b> 1. </b></font>"
   ]
  },
  {
   "cell_type": "code",
   "execution_count": 29,
   "metadata": {},
   "outputs": [
    {
     "data": {
      "text/plain": [
       "63149446.72625841"
      ]
     },
     "execution_count": 29,
     "metadata": {},
     "output_type": "execute_result"
    }
   ],
   "source": [
    "## Inputs - remember sigma was previously defined. It's recorded and you can use it again!\n",
    "e_sun = 1\n",
    "\n",
    "## Calculations\n",
    "E_sun = e_sun*sig*T**4\n",
    "E_sun\n",
    "\n",
    "#To calculate the relative error:\n",
    "#j = (6.32e7*100)/6.33e7\n",
    "#re = 100-j\n",
    "#re"
   ]
  },
  {
   "cell_type": "markdown",
   "metadata": {},
   "source": [
    "<font face=\"Courier\" size=\"3\">\n",
    "Using the equation:<br/>\n",
    "\\begin{equation}\n",
    "E_b = \\sigma * T^4\n",
    "\\end{equation}\n",
    "\n",
    "\\begin{equation}\n",
    "E_{b-sun}= 5.668 \\times 10^{-8}\\ W/m^2 K^4 \\cdot (5777 K)^4 = 6.31 \\times 10^7\\ W/m^2\n",
    "\\end{equation}<p>\n",
    "\n",
    "<b> ANS: The value of $6.32 \\times 10^7\\ W/m^2$ is close to agreement (0.16% relative error) with the given $6.33 \\times 10^7\\ W/m^2$.</b>\n",
    "\n",
    "</font><br /> "
   ]
  },
  {
   "cell_type": "markdown",
   "metadata": {},
   "source": [
    "<font face=\"sans-serif\" size=\"3\"><b> 2. </b></font>"
   ]
  },
  {
   "cell_type": "code",
   "execution_count": 30,
   "metadata": {},
   "outputs": [
    {
     "name": "stdout",
     "output_type": "stream",
     "text": [
      "The Solar constant of Mars would be: 586.2464479903394 and the one of Venus would be: 2611.402414266118\n"
     ]
    }
   ],
   "source": [
    "## Inputs:\n",
    "Gsc = 1361 # Solar Constant, in W/m2\n",
    "d_es = 149.6e6 # distance Earth - Sun (average)\n",
    "d_ms = 227.94e6 # distance Mars - Sun (average)\n",
    "d_vs = 108e6 # distance Venus -Sun (average)\n",
    "d0 = 1\n",
    "\n",
    "## Calculations\n",
    "rel_me = d_ms/d_es\n",
    "rel_ve = d_vs/d_es\n",
    "Gm = Gsc*(d0**2/rel_me**2)\n",
    "Gv = Gsc*(d0**2/rel_ve**2)\n",
    "\n",
    "print(\"The Solar constant of Mars would be:\", Gm, \"and the one of Venus would be:\", Gv)\n",
    "# Code your answers and present them in the next cell."
   ]
  },
  {
   "cell_type": "markdown",
   "metadata": {},
   "source": [
    "<font face=\"Courier\" size=\"3\">\n",
    "\n",
    "The Inverse Square Law indicates that irradiance decreases in proportion with the inverse square of the distance. To compare two planets, we will use Earth as a reference ($d=1 AU$, $G_0=1367\\ W/m^2$).<p>\n",
    "\n",
    "Venus:\n",
    "\\begin{equation}\n",
    "G_v = G_0 * \\frac{d_e^2}{d_v^2} = 1367 * \\frac{1^2}{0.723^2} = 2611\\ W/m^2\n",
    "\\end{equation}<p>\n",
    "\n",
    "Mars:\n",
    "\\begin{equation}\n",
    "G_m = G_0 * \\frac{d_e^2}{d_m^2} = 1367 * \\frac{1^2}{1.523^2} = 586\\ W/m^2\n",
    "\\end{equation}<p>\n",
    "<ul>\n",
    "<b> ANS: \n",
    "<li>Venus: $2615\\ W/m^2$</li>\n",
    "<li> Earth: $1361\\ W/m^2$ (given) </li>\n",
    "<li> Mars: $589\\ W/m^2$</li>\n",
    "</b>\n",
    "</ul>\n",
    "</font><br /> "
   ]
  },
  {
   "cell_type": "markdown",
   "metadata": {},
   "source": [
    "## Problem 7 "
   ]
  },
  {
   "cell_type": "markdown",
   "metadata": {},
   "source": [
    "<font size=\"3\">\n",
    "<ol type=\"a\">\n",
    "\t<li> Using the value for the photosphere surface temperature what fraction of extraterrestrial irradiance is found for $\\lambda < 780\\ nm$? </li>\n",
    "\t<li> What fraction is found for $\\lambda < 3000\\ nm$? </li>\n",
    "\t<li> What fraction is found between $780\\ nm < \\lambda < 3000\\ nm$ (the IR sub-band of extraterrestrial shortwave irradiance) </li>\n",
    "</ol>\n",
    "</font>"
   ]
  },
  {
   "cell_type": "markdown",
   "metadata": {},
   "source": [
    "### Answers "
   ]
  },
  {
   "cell_type": "markdown",
   "metadata": {},
   "source": [
    "<font face=\"sans-serif\" size=\"3\"><b> 1. </b></font>"
   ]
  },
  {
   "cell_type": "code",
   "execution_count": 31,
   "metadata": {
    "collapsed": true
   },
   "outputs": [],
   "source": [
    "fraction_780 = 0.5654 # value calculated by using the code in item 4."
   ]
  },
  {
   "cell_type": "markdown",
   "metadata": {},
   "source": [
    "<font face=\"Courier\" size=\"3\">\n",
    "Calculate the energy in the band of interest with the code in problem 4, assuming surface temperature of the photosphere of 5777 K:<p>\n",
    "\n",
    "<b>ANS: $f_{(0 - \\lambda T)} = 0.57$ or  $57\\%$ (for $\\lambda = 780\\ nm$).</b>\n",
    "\n",
    "</font><br /> "
   ]
  },
  {
   "cell_type": "markdown",
   "metadata": {},
   "source": [
    "<font face=\"sans-serif\" size=\"3\"><b> 2. </b></font>"
   ]
  },
  {
   "cell_type": "code",
   "execution_count": 32,
   "metadata": {
    "collapsed": true
   },
   "outputs": [],
   "source": [
    "fraction_3k = 0.9787 # value calculated by using the code in item 4."
   ]
  },
  {
   "cell_type": "markdown",
   "metadata": {},
   "source": [
    "<font face=\"Courier\" size=\"3\">\n",
    "Calculate the energy in the band of interest the same way using the code in problem 4:<p>\n",
    "\n",
    "<b>ANS: $f_{(0 - \\lambda T)} = 0.98$ or $98\\%$ (for $\\lambda = 3000\\ nm$).</b>\n",
    "</font><br /> "
   ]
  },
  {
   "cell_type": "markdown",
   "metadata": {},
   "source": [
    "<font face=\"sans-serif\" size=\"3\"><b> 3. </b></font>"
   ]
  },
  {
   "cell_type": "code",
   "execution_count": 33,
   "metadata": {},
   "outputs": [
    {
     "data": {
      "text/plain": [
       "0.4133"
      ]
     },
     "execution_count": 33,
     "metadata": {},
     "output_type": "execute_result"
    }
   ],
   "source": [
    "dif_3k_780 = fraction_3k-fraction_780\n",
    "dif_3k_780"
   ]
  },
  {
   "cell_type": "markdown",
   "metadata": {},
   "source": [
    "<font face=\"Courier\" size=\"3\">\n",
    "One takes the difference between the two prior results to find the fraction between 780 nm (high energy, $\\lambda_1$) and 3000 nm (low energy, $\\lambda_2$):<p>\n",
    "\n",
    "\\begin{equation}\n",
    "f_{0-\\lambda_2 T} - f_{0 - \\lambda_1 T} = 0.98 - 0.57 = 0.41\n",
    "\\end{equation}<p>\n",
    "\n",
    "<b>ANS: $f_{\\lambda_2 - \\lambda_1} = 0.41$ or $41\\%$.</b>\n",
    "</font><br /> "
   ]
  },
  {
   "cell_type": "markdown",
   "metadata": {},
   "source": [
    "## Problem 8"
   ]
  },
  {
   "cell_type": "markdown",
   "metadata": {},
   "source": [
    "<font size=\"3\">\n",
    "Plot the Planck spectrum (Bose-Einstein Distributions) of the Sun as a blackbody at the photosphere, and provide the integrated irradiance (area under the curve). Compare your results to value offered in the preceding problem. [Your plot may have bounds from 200 nm to 50,000 nm]\n",
    "</font>"
   ]
  },
  {
   "cell_type": "markdown",
   "metadata": {},
   "source": [
    "### Answers "
   ]
  },
  {
   "cell_type": "code",
   "execution_count": 34,
   "metadata": {},
   "outputs": [
    {
     "data": {
      "text/plain": [
       "<matplotlib.figure.Figure at 0x181da8a9c18>"
      ]
     },
     "metadata": {},
     "output_type": "display_data"
    }
   ],
   "source": [
    "# Code your plot here...\n",
    "\n",
    "## Inputs - sigma was previously defined, remember?\n",
    "C1=(3.742e8); # in units of W micrometer/m2 \n",
    "C2=(1.4384e4); # in units of micrometer*K - another way of writing a number*10^x\n",
    "\n",
    "## Tips: Create a column of lambda values, steps of 0.05 micrometers from lowerLimit to upperLimit:\n",
    "l = np.arange(0.2,50,0.05) # micrometers \n",
    "lT = l*T\n",
    "## establishing the integrand of the function in [eq. 5 and 6 of SECS]\n",
    "integrand = (((C1)/((sig*lT**5)*(exp(C2/lT)-1)))) \n",
    "\n",
    "## Integration method in Python:\n",
    "## integrate.trapz is trapezoidal integration of the integrand \n",
    "## for each value of (l*T)\n",
    "## this is the fraction of power inside the integral relative to the S-B law [Eq. 3.9 of SECS]\n",
    "fract = (integrate.trapz(integrand, lT)) # unitless\n",
    "\n",
    "## using the fraction with [Eq. 3.7 of SECS] I can find integrated emissive power density \n",
    "int_power = fract*sig*T**4 # units of W/m2\n",
    "\n",
    "## The spectral emissive power (\"sep\") for 1 micrometer at  Low and High wavelengths each. \n",
    "## This should be _much_ less power than the total integration, right?\n",
    "sepL=(C1/((0.2**5)*(exp((C2)/(0.2*T))-1))) # should be high energy - Planck’s Law (established for the surface of a blackbody): \n",
    "sepH=(C1/((50**5)*(exp((C2)/(50*T))-1))) # should be low energy - Planck’s Law (established for the surface of a blackbody):\n",
    "\n",
    "\n",
    "## Preparations for the plot; calculate spectral emissive power (\"sep\") \n",
    "##for each wavelength creates a new column of (sep) data at each wavelength for Temp T\n",
    "sepT=(C1/((l**5)*(exp((C2)/(l*T))-1)))\n",
    "\n",
    "## Preparing to PLOT\n",
    "matplotlib.rcParams.update({'font.size': 18}) # Adjusting the font size...\n",
    "bedist = plt.figure(figsize=(20, 10)) # ... and the size of the plot"
   ]
  },
  {
   "cell_type": "code",
   "execution_count": 35,
   "metadata": {},
   "outputs": [
    {
     "data": {
      "text/plain": [
       "<bound method Figure.clear of <matplotlib.figure.Figure object at 0x00000181DA8A9C18>>"
      ]
     },
     "execution_count": 35,
     "metadata": {},
     "output_type": "execute_result"
    }
   ],
   "source": [
    "bedist.clear # to make sure there is no old plot in the memory"
   ]
  },
  {
   "cell_type": "code",
   "execution_count": 36,
   "metadata": {},
   "outputs": [
    {
     "data": {
      "image/png": "[encoded data removed]",
      "text/plain": [
       "<matplotlib.figure.Figure at 0x181da8a9c18>"
      ]
     },
     "execution_count": 36,
     "metadata": {},
     "output_type": "execute_result"
    }
   ],
   "source": [
    "## You can use the following code to plot your figure. \n",
    "\n",
    "ax1 = bedist.add_subplot(1,1,1) # Telling Python you want a single plot\n",
    "ax1.plot(l, sepT, '-b', linewidth=2.0) # Tells Python to plot LT in respect to L, -b = blue line, linewidth is linewidth.\n",
    "ax1.set_title('Spectrum of the Sun at the Surface') # The title of the graph\n",
    "ax1.grid(True) # Enable the grid\n",
    "#ax1.set_xlim(0,5e4) # Uncomment in case you need to change the limits of the x axis\n",
    "#ax1.set_ylim(0,1500) # Uncomment in case you need to change the limits of the y axis\n",
    "#ax1.legend(loc='upper left') # Uncomment in case you want to add legends\n",
    "ax1.set_xlabel('Wavelength (micrometers)') # self explanatory\n",
    "ax1.set_ylabel('Power Density (W/m2*micrometer)') # self explanatory\n",
    "\n",
    "bedist"
   ]
  },
  {
   "cell_type": "code",
   "execution_count": 37,
   "metadata": {},
   "outputs": [
    {
     "name": "stdout",
     "output_type": "stream",
     "text": [
      "Higher Spectral Emissive Power of a Blackbody: 4584200.47474 Lower Spectral Emissive Power: 23.4524491409 .Integrated Power: 63096761.0157 .Fraction: 0.999165697987\n"
     ]
    }
   ],
   "source": [
    "print(\"Higher Spectral Emissive Power of a Blackbody:\", sepL, \"Lower Spectral Emissive Power:\", sepH, \".Integrated Power:\", int_power, \".Fraction:\", fract)"
   ]
  },
  {
   "cell_type": "markdown",
   "metadata": {},
   "source": [
    "<font face=\"Courier\" size=\"3\">\n",
    "This plot yields an irradiance value of $6.31\\ \\times 10^7\\ W/m^2$, which is the same as the earlier value from Problem 6. The\n",
    "radiant exitance from the Sun at the photosphere is $6.33\\ \\times 10^7\\ W/m^2$(again, the relative error is lesser than 1% –negligible).\n",
    "</font><br /> "
   ]
  },
  {
   "cell_type": "markdown",
   "metadata": {},
   "source": [
    "## Problem 9 "
   ]
  },
  {
   "cell_type": "markdown",
   "metadata": {},
   "source": [
    "<font size=\"3\">\n",
    "Re-plot the spectrum of the Sun according to the Inverse Square Law, scaled to represent the extraterrestrial irradiance at the Earth's surface.\n",
    "<ol type=\"a\">\n",
    "    <li> Integrate under the curve for the expected value of irradiance. </li>\n",
    "    <li> Explain why you can decrease the bounds significantly. </li> \n",
    "    <li> Does the most probable wavelength (found by Wien's Displacement Law) shift with the scaling? [Your plot may have bounds from 200 nm to 3,000 nm] </li>\n",
    "<ol>\n",
    "</font>"
   ]
  },
  {
   "cell_type": "markdown",
   "metadata": {},
   "source": [
    "### Answers "
   ]
  },
  {
   "cell_type": "markdown",
   "metadata": {},
   "source": [
    "<font face=\"sans-serif\" size=\"3\"><b> 1. </b></font>\n"
   ]
  },
  {
   "cell_type": "code",
   "execution_count": 38,
   "metadata": {},
   "outputs": [
    {
     "data": {
      "text/plain": [
       "<matplotlib.figure.Figure at 0x181daee2208>"
      ]
     },
     "metadata": {},
     "output_type": "display_data"
    }
   ],
   "source": [
    "## Tips: Create a column of lambda values, steps of 0.05 micrometers from lowerLimit to upperLimit:\n",
    "L = np.arange(0.2,3,0.05)\n",
    "LT=L*T \n",
    "## establishing the integrand of the function in [eq. 5 of SECS]\n",
    "integr = 2.155e-5*(((C1)/((sig*LT**5)*(exp(C2/LT)-1)))) #The Inverse Square Law dictates that we scale the \n",
    "#irradiance from the surface of the Sun by a factor of 2.155e-5\n",
    "\n",
    "## Integration method in Python:\n",
    "## integrate.trapz is trapezoidal integration of the integrand \n",
    "## for each value of (L*T)\n",
    "## this is the fraction of power inside the integral relative to the S-B law [Eq. 3.9 of SECS]\n",
    "fraction = (integrate.trapz(integr, LT)) # unitless\n",
    "\n",
    "## using the fraction with [Eq. 3.7 of SECS] I can find integrated emissive power density \n",
    "int_pwr = fraction*sig*T**4 # units of W/m2\n",
    "\n",
    "## The spectral emissive power (\"sp\") for 1 micrometer at  Low and High wavelengths each. \n",
    "## This should be _much_ less power than the total integration, right?\n",
    "spL=(C1/((0.2**5)*(exp((C2)/(0.2*T))-1))) # should be high energy\n",
    "spH=(C1/((3**5)*(exp((C2)/(3*T))-1))) # should be low energy\n",
    "\n",
    "## Preparations for the plot; calculate spectral emissive power (\"sp\") \n",
    "##for each wavelength creates a new column of (sep) data at each wavelength for Temp T\n",
    "spT=(C1/((L**5)*(exp((C2)/(LT))-1)))\n",
    "\n",
    "## Preparing to PLOT\n",
    "matplotlib.rcParams.update({'font.size': 18}) # Adjusting the font size...\n",
    "newdist = plt.figure(figsize=(20, 10)) # ... and the size of the plot"
   ]
  },
  {
   "cell_type": "code",
   "execution_count": 39,
   "metadata": {},
   "outputs": [
    {
     "name": "stdout",
     "output_type": "stream",
     "text": [
      "Higher Spectral Emissive Power of a Blackbody: 4584200.47474 . Lower Spectral Emissive Power: 1190760.38179 . Integrated Power: 1329.50949288 . Fraction: 2.10533830747e-05 .\n"
     ]
    }
   ],
   "source": [
    "print(\"Higher Spectral Emissive Power of a Blackbody:\", spL,\".\", \"Lower Spectral Emissive Power:\", spH,\".\", \"Integrated Power:\", int_pwr,\".\", \"Fraction:\", fraction,\".\")"
   ]
  },
  {
   "cell_type": "code",
   "execution_count": 40,
   "metadata": {},
   "outputs": [
    {
     "data": {
      "text/plain": [
       "<bound method Figure.clear of <matplotlib.figure.Figure object at 0x00000181DAEE2208>>"
      ]
     },
     "execution_count": 40,
     "metadata": {},
     "output_type": "execute_result"
    }
   ],
   "source": [
    "newdist.clear # to make sure there is no old plot in the memory"
   ]
  },
  {
   "cell_type": "code",
   "execution_count": 41,
   "metadata": {},
   "outputs": [
    {
     "data": {
      "image/png": "[encoded data removed]",
      "text/plain": [
       "<matplotlib.figure.Figure at 0x181daee2208>"
      ]
     },
     "execution_count": 41,
     "metadata": {},
     "output_type": "execute_result"
    }
   ],
   "source": [
    "## You can use the following code to plot your figure. \n",
    "\n",
    "ax1 = newdist.add_subplot(1,1,1) # Telling Python you want a single plot\n",
    "ax1.plot(L, spT, '-g', linewidth=2.0) # Tells Python to plot L in respect to LT, -g = green line, linewidth is linewidth.\n",
    "ax1.set_title('Planck Spectrum of the Sun at Earth\\'s surface (AMO)') # The title of the graph\n",
    "ax1.grid(True) # Enable the grid\n",
    "#ax1.set_xlim(0,175200) # Uncomment in case you need to change the limits of the x axis\n",
    "#ax1.set_ylim(0,1500) # Uncomment in case you need to change the limits of the y axis\n",
    "#ax1.legend(loc='upper left') # Uncomment in case you want to add legends\n",
    "ax1.set_xlabel('Wavelength (micrometers)') # self explanatory\n",
    "ax1.set_ylabel('Power Density (W/m2*micrometer)') # self explanatory\n",
    "\n",
    "newdist"
   ]
  },
  {
   "cell_type": "markdown",
   "metadata": {},
   "source": [
    "<font face=\"Courier\" size=\"3\">\n",
    "<b> ANS: The expected value of irradiance is $1329\\ W/m^2$, which is approximately $2.11 \\times 10^{-5}$ of the value of the radiance from the Sun.</b>\n",
    "</font><br /> "
   ]
  },
  {
   "cell_type": "markdown",
   "metadata": {},
   "source": [
    "<font face=\"sans-serif\" size=\"3\"><b> 2. </b></font>"
   ]
  },
  {
   "cell_type": "markdown",
   "metadata": {},
   "source": [
    "<font face=\"Courier\" size=\"3\">\n",
    "The bounds can be decreased significantly as the long tail of longwave irradiance becomes near zero at $\\sim 5000\\ nm$\n",
    "</font><br /> "
   ]
  },
  {
   "cell_type": "markdown",
   "metadata": {},
   "source": [
    "<font face=\"sans-serif\" size=\"3\"><b> 3. </b></font>"
   ]
  },
  {
   "cell_type": "markdown",
   "metadata": {},
   "source": [
    "<font face=\"Courier\" size=\"3\">\n",
    "The most probable wavelength does not shift with scaling, as compared with the figure in problem 8. \n",
    "</font><br /> "
   ]
  },
  {
   "cell_type": "markdown",
   "metadata": {},
   "source": [
    "## Problem 10 "
   ]
  },
  {
   "cell_type": "markdown",
   "metadata": {},
   "source": [
    "<font size=\"3\">\n",
    "Plot the spectrum of the atmosphere (the radiant exitance or glow), given an effective isotropic average temperature of 255 K. \n",
    "Where does the most probable wavelength seem to occur (by observation)?  \n",
    "Explain why the bounds of plotting are significantly different from those of incoming shortwave solar irradiance. [Your plot may have bounds from 2,500 nm to 50,000 nm]\n",
    "</font>"
   ]
  },
  {
   "cell_type": "markdown",
   "metadata": {},
   "source": [
    "\n",
    "### Answers "
   ]
  },
  {
   "cell_type": "code",
   "execution_count": 42,
   "metadata": {},
   "outputs": [
    {
     "data": {
      "text/plain": [
       "<matplotlib.figure.Figure at 0x181daecd6d8>"
      ]
     },
     "metadata": {},
     "output_type": "display_data"
    }
   ],
   "source": [
    "## Inputs\n",
    "L2 = np.arange(2.5,50,0.05)\n",
    "T2 = 255 # Kelvin\n",
    "LT2=L2*T2 \n",
    "\n",
    "## Preparations for the plot; calculate spectral emissive power (\"sp\") \n",
    "## for each wavelength creates a new column of (sep) data at each wavelength for Temp T\n",
    "spT2=(C1/((L2**5)*(exp((C2)/(LT2))-1)))\n",
    "\n",
    "## Preparing to PLOT\n",
    "matplotlib.rcParams.update({'font.size': 18}) # Adjusting the font size...\n",
    "atmspec = plt.figure(figsize=(20, 10)) # ... and the size of the plot"
   ]
  },
  {
   "cell_type": "code",
   "execution_count": 43,
   "metadata": {},
   "outputs": [
    {
     "data": {
      "text/plain": [
       "<bound method Figure.clear of <matplotlib.figure.Figure object at 0x00000181DAECD6D8>>"
      ]
     },
     "execution_count": 43,
     "metadata": {},
     "output_type": "execute_result"
    }
   ],
   "source": [
    "atmspec.clear # to make sure there is no old plot in the memory"
   ]
  },
  {
   "cell_type": "code",
   "execution_count": 44,
   "metadata": {},
   "outputs": [
    {
     "data": {
      "image/png": "[encoded data removed]",
      "text/plain": [
       "<matplotlib.figure.Figure at 0x181daecd6d8>"
      ]
     },
     "execution_count": 44,
     "metadata": {},
     "output_type": "execute_result"
    }
   ],
   "source": [
    "## You can use the following code to plot your figure. \n",
    "\n",
    "ax1 = atmspec.add_subplot(1,1,1) # Telling Python you want a single plot\n",
    "ax1.plot(L2, spT2, '-r', linewidth=2.0) # Tells Python to plot spT2 in respect to L2, -g = green line, linewidth is linewidth.\n",
    "ax1.set_title('Planck Spectrum of the Earth\\'s atmosphere') # The title of the graph\n",
    "ax1.grid(True) # Enable the grid\n",
    "#ax1.set_xlim(0,175200) # Uncomment in case you need to change the limits of the x axis\n",
    "#ax1.set_ylim(0,1500) # Uncomment in case you need to change the limits of the y axis\n",
    "#ax1.legend(loc='upper left') # Uncomment in case you want to add legends\n",
    "ax1.set_xlabel('Wavelength (micrometers)') # self explanatory\n",
    "ax1.set_ylabel('Power Density (W/m2*micrometer)') # self explanatory\n",
    "\n",
    "atmspec"
   ]
  },
  {
   "cell_type": "markdown",
   "metadata": {},
   "source": [
    "<font face=\"Courier\" size=\"3\">\n",
    "<b>ANS: The bounds are within the longwave band due to Wien’s Displacement Law, as the atmosphere is much colder than the surface of the Sun. The most probable wavelength occurs at $ \\approx 12\\ µm$.<p>\n",
    "The bounds are much greater due to the decrease in temperature from $5777\\ K$ to $255\\ K$.\n",
    "</b>\n",
    "</font><br /> "
   ]
  },
  {
   "cell_type": "markdown",
   "metadata": {},
   "source": [
    "## Problem 11 "
   ]
  },
  {
   "cell_type": "markdown",
   "metadata": {},
   "source": [
    "<font size=\"3\">The glazing (glass windows) for a traditional greenhouse have $\\tau = 0.90$ for the PAR band (photosynthetically active radiation: $400 nm\\ < \\lambda < 700\\ nm$). The glazing is also $\\tau = 0.90$ the remainder of the IR in the shortwave band $700\\ nm < \\lambda < 2500\\ nm$,  while $\\tau = 0.60$ for the remainder in the UV band ($200\\ nm < \\lambda < 400\\ nm$). In contrast, greenhouse glazing is almost completely opaque at longer wavelengths ($\\tau < 0.02$). <p>Assuming the sun radiates at an effective temperature of 5777K and the interior of the greenhouse radiates at an effective temperature of 310K, calculate the percent (or fraction) of incident shortwave irradiance transmitted through the glass and the percent (or fraction) of longwave radiance emitted by the interior surfaces transmitted out.</font>"
   ]
  },
  {
   "cell_type": "markdown",
   "metadata": {},
   "source": [
    "### Answers "
   ]
  },
  {
   "cell_type": "code",
   "execution_count": 45,
   "metadata": {},
   "outputs": [
    {
     "name": "stdout",
     "output_type": "stream",
     "text": [
      "Total percentage of Solar energy transmitted through greenhouse glazing: 0.833214 . Total percentage of emitted longwave transmitted: 0.019316 .\n"
     ]
    }
   ],
   "source": [
    "## Inputs\n",
    "tau_UV = 0.60 # for 200 nm < lambda < 400 nm\n",
    "tau_PAR = 0.90 # for 400 nm < lambda < 700 nm\n",
    "tau_IR = 0.90 # for 700 nm < lambda < 2500 nm\n",
    "tau_LW = 0.02 # for the Longwave band, lambda > 2500 nm\n",
    "T_gh = 310 # Interior temperature of the greenhouse (K)\n",
    "T_sun = 5777 # Approximated Surface Temperature of sun (K)\n",
    "\n",
    "# Code from Problem 3.4 was developed to calculate the fractions for blackbody contributions.\n",
    "# It will be used again here to calculate the fractional contributions in this problem for our four\n",
    "# given bands of interest (f_{UV}, f_{PAR}, f_{IR}, and f_{LW}).\n",
    "\n",
    "## Solar transmitted into Greenhouse (calculated by code in problem 4): \n",
    "#Check for total fractional contributions $f_{tot}$:\n",
    "f_UV = 0.1223\n",
    "f_PAR = 0.3667\n",
    "f_IR = 0.4768\n",
    "f_LW = 0.0342\n",
    "\n",
    "f_tot = f_UV + f_PAR + f_IR + f_LW\n",
    "\n",
    "# This far, we have only calculated the fraction of blackbody emittance relative to the Sun as a blackbody emitter for\n",
    "# each band of interest. \n",
    "# Now, we can add the scaling factors of transmittance to those fractions, given the real properties of the greenhouse\n",
    "#glazing material for the four bands of interest.\n",
    "\n",
    "F_tot = (f_UV*tau_UV) + (f_PAR*tau_PAR) + (f_IR*tau_IR) + (f_LW*tau_LW)\n",
    "\n",
    "\n",
    "#\\textbf{Total percentage of Solar energy transmitted through greenhouse glazing:}\n",
    "#$\\Sigma f_{band} (\\tau_{band}) = 0.84 \\approx 84\\%$\\bigskip\n",
    "\n",
    "\n",
    "\n",
    "#\\noindent \\textbf{Longwave transmitted out of the Greenhouse:} This time we are running the calculation from $\\lambda > 2,500 nm$, with a $\\tau \\sim 0.02$. We determine the $\\lambda T$ for the boundary wavelength, now at temperature $T_{GH} = 310\\ K$, and then multiply it by the low transmittance of the glazing material in the longwave band.\n",
    "\n",
    "##Total percentage of emitted longwave transmitted:\n",
    "F_LW = (1-f_LW)*tau_LW \n",
    "\n",
    "print(\"Total percentage of Solar energy transmitted through greenhouse glazing:\", F_tot,\".\", \"Total percentage of emitted longwave transmitted:\", F_LW,\".\")\n"
   ]
  },
  {
   "cell_type": "markdown",
   "metadata": {},
   "source": [
    "<font face=\"Courier\" size=\"3\">\n",
    "<b> Total percentage of Solar energy transmitted through greenhouse glazing: 0.833214. <p>\n",
    "Total percentage of emitted longwave transmitted is near zero: 0.02 ($\\approx 2\\%$)</b>\n",
    "</font><br /> "
   ]
  },
  {
   "cell_type": "markdown",
   "metadata": {},
   "source": [
    "## Problem 12 "
   ]
  },
  {
   "cell_type": "markdown",
   "metadata": {},
   "source": [
    "<font size=\"3\">A single solid sheet of polystyrene is proposed as a cover material. Polystyrene has an index of refraction in the visible of 1.55. The sheet thickness is $d = 2 mm$, with an extinction coefficient of $k = 5\\ m^{-1}$. Paying attention to the unit conversions, calculate the reflectance of the surface on a smooth plastic sheet for three angles of incidence:\n",
    "<ol type=\"a\">\n",
    "    <li> $10^\\circ$ </li> \n",
    "\t<li> $45^\\circ$ </li>\n",
    "\t<li> $60^\\circ$ </li>\n",
    "</ol>\n",
    "</font>"
   ]
  },
  {
   "cell_type": "markdown",
   "metadata": {},
   "source": [
    "### Answers "
   ]
  },
  {
   "cell_type": "markdown",
   "metadata": {},
   "source": [
    "<font face=\"sans-serif\" size=\"3\"><b> 1. </b></font>"
   ]
  },
  {
   "cell_type": "code",
   "execution_count": 46,
   "metadata": {},
   "outputs": [
    {
     "data": {
      "text/plain": [
       "0.088083047798604514"
      ]
     },
     "execution_count": 46,
     "metadata": {},
     "output_type": "execute_result"
    }
   ],
   "source": [
    "## Inputs\n",
    "n_1 = 1.00 # Index of refraction of air\n",
    "n_2 = 1.55 # Index of refraction of cover\n",
    "d = 2e-3 # Cover sheet thickness (m)\n",
    "theta1 = 10 # angle  (could be changed to 45 and 60)\n",
    "k_e = 5 # Extinction coefficient of cover material (1/m)\n",
    "\n",
    "# Calculating theta2 (angle of refraction):\n",
    "theta2 = asind((n_1*sind(theta1))/n_2) #angle of refraction (calculated using Snell's Law)\n",
    "\n",
    "# r_par = parallel polarized reflectivity\n",
    "# r_perp = perpindicular polarized reflectivity \n",
    "\n",
    "#//////// Calc. transmittance considering losses ////////\n",
    "#////////        due to absorption of light //////\n",
    "tau_a = exp(-(k_e*d)/(cosd(theta2)))\n",
    "\n",
    "#//////// Calculate the polarized components of Reflectivity //////\n",
    "r_par = (n_1*cosd(theta1)-n_2*cosd(theta2))**2/(n_1*cosd(theta1)+ n_2*cosd(theta2))**2\n",
    "\n",
    "r_perp = (n_1*cosd(theta2)-n_2*cosd(theta1))**2/(n_1*cosd(theta2)+ n_2*cosd(theta1))**2\n",
    "\n",
    "#//////// Calculate the polarized components of Transmittance //////\n",
    "tau_perp = (tau_a*(1-r_perp)**2)/(1-(r_perp*tau_a)**2) \n",
    "#perpindicular polar. trans.\n",
    "\n",
    "tau_par =(tau_a*(1-r_par)**2)/(1-(r_par*tau_a)**2)\n",
    "#//parallel polar. trans.\n",
    "\n",
    "#//////// Calculate the polarized components of Reflectance //////\n",
    "rho_perp = r_perp*(1 + tau_a*tau_perp)\n",
    "#//perpindicular polar. reflectance\n",
    "\n",
    "rho_par = r_par*(1+tau_a*tau_par) \n",
    "#// parallel polar. reflectance\n",
    "\n",
    "#//////// Calculate Total Reflectance as average of components //////\n",
    "reflectance = 0.5*(rho_par + rho_perp) # unitless output\n",
    "reflectance"
   ]
  },
  {
   "cell_type": "markdown",
   "metadata": {},
   "source": [
    "<font face=\"Courier\" size=\"3\">\n",
    "<b>Explanation for items 1, 2 and 3:<p></b>\n",
    "One needs to find the angle of refraction first. Using Snell's Law (Eq. [4.29]):<p>\n",
    "\\begin{equation}\n",
    "n_2 = n_1 \\cdot ( \\frac{\\sin(\\theta_1)}{\\sin(\\theta_2)})\n",
    "\\end{equation}\n",
    "\n",
    "We assume that $n_2$ is the refractive index of the polystyrene cover material, $n_1$ is the refractive index of air, $\\theta_1$ is the angle of incidence for light, and $\\theta_2$ is therefore the angle of refraction of light.\n",
    "\n",
    "For the angle of incidence values of $10^\\circ$, $45^\\circ$, and $60^\\circ$, the angles of refraction ($\\theta_2$) for the three angles are:\n",
    "<ul>\n",
    "<li>$10^\\circ$: $\\theta_2 = 6.43^\\circ$</li>\n",
    "<li>$45^\\circ$: $\\theta_2 = 27.14^\\circ$</li>\n",
    "<li>$60^\\circ$: $\\theta_2 = 33.97^\\circ$</li>\n",
    "</ul>\n",
    "\n",
    "\n",
    "The reflectivity results for each different angle are derived from Eqns [4.30] and [4.31]:\n",
    "<ul>\n",
    "<li>$10^\\circ$: $r_\\perp = 0.05 \\text{ and } r_\\parallel = 0.05$</li>\n",
    "<li>$45^\\circ$: $r_\\perp = 0.10 \\text{ and } r_\\parallel = 0.01$</li>\n",
    "<li>$60^\\circ$: $r_\\perp = 0.19 \\text{ and } r_\\parallel = 0.00$</li>\n",
    "</ul>\n",
    "\n",
    "We can then solve for the transmission losses due to absorption of light by the cover material ($\\tau_\\alpha$, Eq. [4.36]), and and transmission losses due to reflection of light away from the cover material ($\\tau_\\rho$, Eq. [4.38]). The equations are displayed below, where <b>k</b> and <b>d</b> are given and N (the layers of transparent material) is assumed to be 1. \n",
    "\n",
    "\\begin{align}\n",
    "\\tau_\\alpha =& \\text{exp} \\left(-\\frac{kd}{cos\\theta_2} \\right)\\\\\n",
    "\\tau_\\rho = &\\frac{1}{2} \\left( \\frac{1-r_\\parallel}{1+(2N-1)*r_\\parallel} + \\frac{1-r_\\perp}{1+(2N-1)*r_\\perp} \\right)\\\\\n",
    "\\end{align}\n",
    "\n",
    "The full calculation of transmittance in terms of components are found in Eqs. [4.42] and [4.43]. These equations yield the following transmittance (polarized component) results:\n",
    "\n",
    "<ul>\n",
    "<li>$10^\\circ$: $\\tau_\\rho = 0.911 \\text{ and } \\tau_\\alpha = 0.990$</li>\n",
    "<li>$45^\\circ$: $\\tau_\\rho = 0.895 \\text{ and } \\tau_\\alpha = 0.989$</li>\n",
    "<li>$60^\\circ$: $\\tau_\\rho = 0.837 \\text{ and } \\tau_\\alpha = 0.988$</li>\n",
    "</ul>\n",
    "\n",
    "Since we are assuming a single cover ($N=1$), we can then use the \"quick\" formula for $\\rho$ in Eq. [4.40] to find the reflectance:\n",
    "\n",
    "\\begin{equation}\n",
    "\\rho \\approx \\tau_\\alpha (1-\\tau_\\rho)\n",
    "\\end{equation}\n",
    "\n",
    "<b>Given the approximation for a single cover, the final reflectance values for each angle of incidence are:\n",
    "<ul>\n",
    "<li>$10^\\circ$: $\\rho_{10} = 0.088$</li>\n",
    "<li>$45^\\circ$: $\\rho_{45} = 0.104$</li>\n",
    "<li>$60^\\circ$: $\\rho_{60} = 0.162$</li>\n",
    "<p>\n",
    "</ul>\n",
    "</b>\n",
    "As a trend, we observe that the reflectance losses for light increase to about 15\\% as the angle of incidence approaches $\\theta = 60^\\circ$. This loss becomes particularly important if we look ahead to systems performance analysis in Ch. 13 of the text (Figure 13.3, p 325), where we consider that the diffuse light of the sky from any direction (isotropic) can be approximated by an the effective angles of incidence of $\\theta_{e} \\sim 56-61^\\circ$, as determined empirically by  Brandemuehl and Beckman (1980).\\cite{DB2006} <p>\n",
    "\n",
    "<b> The answer is $\\rho_{10} = 0.09$.</b>\n",
    "\n",
    "</font><br /> "
   ]
  },
  {
   "cell_type": "markdown",
   "metadata": {},
   "source": [
    "<font face=\"sans-serif\" size=\"3\"><b> 2. </b></font>"
   ]
  },
  {
   "cell_type": "markdown",
   "metadata": {},
   "source": [
    "<font face=\"Courier\" size=\"3\">\n",
    "<b> The answer is $\\rho_{45} = 0.104$</b>\n",
    "</font><br /> "
   ]
  },
  {
   "cell_type": "markdown",
   "metadata": {},
   "source": [
    "<font face=\"sans-serif\" size=\"3\"><b> 3. </b></font>"
   ]
  },
  {
   "cell_type": "markdown",
   "metadata": {},
   "source": [
    "<font face=\"Courier\" size=\"3\">\n",
    "<b> The answer is $\\rho_{60} = 0.162$</b>\n",
    "</font><br /> "
   ]
  },
  {
   "cell_type": "markdown",
   "metadata": {},
   "source": [
    "## Problem 13 "
   ]
  },
  {
   "cell_type": "markdown",
   "metadata": {},
   "source": [
    "<font size=\"3\">Low-iron glass is used specifically in SECSs, as a dual pane system for solar hot water panels. For a glass sheet ($n=1.53$) that is 3 mm thick and with an <b>extinction coefficient</b>, $k = 4\\ m^{-1}$ (low-iron), calculate the transmission of two covers at:\n",
    "<ol type=\"a\">\n",
    "\t<li> Normal incidence: ($\\theta_1 = 90^\\circ$) </li>\n",
    "\t<li> Alternate incidence of 40 degrees: $\\theta_1 = 40^\\circ$ </li>\n",
    "</ol>\n",
    "</font>"
   ]
  },
  {
   "cell_type": "markdown",
   "metadata": {},
   "source": [
    "### Answers "
   ]
  },
  {
   "cell_type": "markdown",
   "metadata": {},
   "source": [
    "<font face=\"sans-serif\" size=\"3\"><b> 1. </b></font>"
   ]
  },
  {
   "cell_type": "code",
   "execution_count": 62,
   "metadata": {},
   "outputs": [
    {
     "name": "stdout",
     "output_type": "stream",
     "text": [
      "Transmittance single cover normal incidence: 0.898045193809 . Transmittance single cover 40deg incidence: 0.888232477324 . Squared values are, respectively: 0.806485170124 and 0.788956933773 .\n"
     ]
    }
   ],
   "source": [
    "## Inputs\n",
    "n1 = 1 # Index of refraction of the air\n",
    "n2 = 1.53 # Index of refraction of the glass cover \n",
    "d_s=3e-3 # Cover sheet thickness \n",
    "k_e2 = 4 # Extinction coefficient of cover material\n",
    "t1 = 90 # theta1\n",
    "t3 = 40 #theta 3\n",
    "\n",
    "## Using the given angles of incidence above and indices of refraction, the resulting angles of refraction are:\n",
    "t2 = asind((n_1*sind(t1))/n_2) #refraction for the angle of incidence = 90 degrees (theta1)\n",
    "t4 = asind((n_1*sind(t3))/n_2) #refraction for the angle of incidence = 40 degrees (theta3)\n",
    "    \n",
    "#$$\\text{a) } \\theta_2 = 0^\\circ{}$$\\\\\n",
    "#$$\\text{b) } \\theta_2 = 24.8^\\circ$$\\bigskip\n",
    "\n",
    "## In cases of normal irradiance, since both the angle of incidence and the angle of refraction are $0^\\circ$,\n",
    "## we can use the simplified formula to get overall reflectivity in Eq. [4.33]:\n",
    "\n",
    "r0 = ((n1-n2)/(n1+n2))**2\n",
    "##r0 = 0.044$$\n",
    "\n",
    "## In cases where the angle of incidence and the angle of refraction are different, we need to compute the values\n",
    "rperp = (n1*cosd(t3)-n2*cosd(t4))**2/(n1*cosd(t3)+n2*cosd(t4))**2\n",
    "rpar = (n1*cosd(t4)-n2*cosd(t3))**2/(n1*cosd(t4)+n2*cosd(t3))**2\n",
    "\n",
    "#r_{ \\perp = 0.0835$$\n",
    "#r_{ \\parallel } = 0.0162$$\n",
    "\n",
    "## Next, we can calculate the transmittance coefficient with respect to absorption losses tau_alpha, Eq. [4.36]):\n",
    "tau_alpha_90 = exp(-k_e2*d_s/cosd(t2)) \n",
    "tau_alpha_40 = exp(-k_e2*d_s/cosd(t4)) \n",
    "\n",
    "## = 0.988$$\n",
    "\n",
    "\n",
    "## We can finally calculate the true transmittance (tau) using tau_alpha and incidence reflectivity:\n",
    "# 1 - Normal incidence:\n",
    "tau_r0 = tau_alpha_90*(1-r0)**2/1-(r0*tau_alpha_90)**2\n",
    "\n",
    "#tau_r0 = 0.905$$\\bigskip\n",
    "# 2 - 40 degrees angle of incidence:\n",
    "tau_perp = tau_alpha_40*(1-rperp)**2/1-(rperp*tau_alpha_40)**2\n",
    "tau_par = tau_alpha_40*(1-rpar)**2/1-(rpar*tau_alpha_40)**2\n",
    "tau_f = 0.5*(tau_par+tau_perp) \n",
    "\n",
    "print(\"Transmittance single cover normal incidence:\", tau_r0 ,\".\", \"Transmittance single cover 40deg incidence:\", tau_f,\".\", \n",
    "      \"Squared values are, respectively:\", tau_r0**2,\"and\", tau_f**2,\".\")\n"
   ]
  },
  {
   "cell_type": "markdown",
   "metadata": {},
   "source": [
    "<font face=\"Courier\" size=\"3\">\n",
    "In cases of normal irradiance, since both the angle of incidence and the angle of refraction are $0^\\circ$, we can use the simplified formula to get overall reflectivity in Eq. [4.33]:<p>\n",
    "\n",
    "\\begin{equation}\n",
    "r(0^\\circ{}) = \\left(\\frac{n_1-n_2}{n_1+n_2}\\right) = \\frac{1}{2}(r_\\perp+r_\\parallel) = 0.044\n",
    "\\end{equation}\n",
    "<p>\n",
    "\n",
    "Next, we can calculate the transmittance coefficient with respect to absorption losses ($\\tau_{ \\alpha }$, Eq. [4.36]): <p>\n",
    "\\begin{equation}\n",
    "\\tau_{ \\alpha } = \\exp^{ ( - \\frac { KL } { \\cos \\theta_{2}  } ) } \n",
    "= \\exp^{ ( - \\frac { 4 \\times 0.003 } {\\cos  (0)  } ) } = 0.988\n",
    "\\end{equation}\n",
    "<p>\n",
    "We can finally calculate the true transmittance ($\\tau$) using $\\tau_{ \\alpha }$ and normal incidence reflectivity $r_0$:<p>\n",
    "\\begin{align}\n",
    "\\tau = \\tau_{ \\alpha } \\frac { 1 - r_{ (0) } } { 1 + r_{ (0) } } \\left( \\frac { 1 - r_{ (0) }^{2} } { 1 - ( r_{ (0) } \\tau_{ \\alpha } )^{2} } \\right) \n",
    "= 0.905\n",
    "\\end{align}\n",
    "<p>\n",
    "\n",
    "<b>  Answer: For normal incidence on this cover: $\\tau = 0.91$ for one cover, while $\\tau = 0.905^2 = 0.82$ for two covers</b>\n",
    "</font><br /> "
   ]
  },
  {
   "cell_type": "markdown",
   "metadata": {},
   "source": [
    "<font face=\"sans-serif\" size=\"3\"><b> 2. </b></font>"
   ]
  },
  {
   "cell_type": "markdown",
   "metadata": {},
   "source": [
    "<font face=\"Courier\" size=\"3\">\n",
    "In cases of incidence angles other than 90$^\\circ$, we use the angles of incidence and refraction to find the perpendicular and parallel components of reflectivity ($r_\\perp$ and $r_\\parallel$). The results are as follows:<p>\n",
    "\n",
    "\\begin{equation}\n",
    "r_{ \\perp } = \\frac { sin^{2} ( \\theta_{2} - \\theta_{1} ) } { sin^{2} ( \\theta_{2} + \\theta_{1} ) } = 0.0835\n",
    "\\end{equation}\n",
    "\n",
    "\\begin{equation}\n",
    "r_{ \\parallel } = \\frac { tan^{2} ( \\theta_{2} - \\theta_{1} ) } { tan^{2} ( \\theta_{2} + \\theta_{1} ) } = 0.0162\n",
    "\\end{equation}\n",
    "<p>\n",
    "Next we can calculate the transmittance coefficient with respect to absorption losses ($\\tau_{ \\alpha }$):<p>\n",
    "\n",
    "\\begin{equation}\n",
    "\\tau_{ \\alpha } = \\exp^{ ( - \\frac { KL } { \\cos \\theta_{2}  } ) } = \\exp^{ ( - \\frac { 4 \\times 0.003 } { \\cos  (24.84)  } ) } = 0.987\n",
    "\\end{equation}\n",
    "<p>\n",
    "\n",
    "From the text, we see that $\\tau = \\frac{1}{2}(\\tau_{\\perp} + \\tau_{\\parallel})$:<p>\n",
    "\\begin{equation}\n",
    "\\tau_{ \\perp } = \\frac { \\tau_{ \\alpha } ( 1 - r_{ \\perp } )^{2} } { 1 - ( r_{ \\perp } \\tau_{ \\alpha } )^{2} } = 0.835\n",
    "\\end{equation}\n",
    "\n",
    "\\begin{equation}\n",
    "\\tau_{ \\parallel } = \\frac { \\tau_{ \\alpha } ( 1 - r_{ \\parallel } )^{2} } { 1 - ( r_{ \\parallel } \\tau_{ \\alpha } )^{2} } = 0.955\n",
    "\\end{equation}\n",
    "\n",
    "\\begin{equation}\n",
    "\\tau = \\frac { 1 } { 2 } ( \\tau_{ \\perp } + \\tau_{ \\parallel } ) = \\frac { 1 } { 2 } ( 0.835 + 0.955 ) = 0.895\n",
    "\\end{equation}\n",
    "\n",
    "\n",
    "<b>Answer: For 40$^\\circ$ incidence: $\\tau = 0.90$ for one cover, while $\\tau = 0.895^2 = 0.80$ for two covers </b>\n",
    "\n",
    "The broader trend demonstrates that transmittance values are much less susceptible to the angle of incidence, in comparison to losses from reflectance in the net energy balance. Hence transmittance values through covers will remain fairly constant across multiple angles of incidence."
   ]
  },
  {
   "cell_type": "markdown",
   "metadata": {},
   "source": [
    "## Problem 14 - Bonus [Advanced]"
   ]
  },
  {
   "cell_type": "markdown",
   "metadata": {},
   "source": [
    "<font size=\"3\">Define temperature in the most general sense that you can find given the full body of thermodynamics and statistical mechanics.</font>"
   ]
  },
  {
   "cell_type": "markdown",
   "metadata": {},
   "source": [
    "### Answers "
   ]
  },
  {
   "cell_type": "markdown",
   "metadata": {},
   "source": [
    "<font face=\"Courier\" size=\"3\">\n",
    "Temperature is often described loosely as the measure of the average kinetic energy associated with the motion of atoms and molecules. A rise or fall in temperature may indicate that more energy is being converted to molecular kinetic energy. However, in thermodynamics, we describe temperature in terms of the partial change in internal energy (or enthalpy) with respect to a partial change in entropy.\n",
    "\n",
    "\\begin{equation}\n",
    "T \\equiv \\left( \\frac{\\partial U}{\\partial S}  \\right)_V = \\left( \\frac{\\partial H}{\\partial S}  \\right)_P\n",
    "\\end{equation}\n",
    "<p>\n",
    "A piece of metal lying in the sun would experience a rise in temperature. This rise in temperature indicates that electromagnetic radiation is being converted to molecular kinetic energy contributing to faster motion of the metal's atoms, a relationship of the change in internal energy relative to a change in the dispersion of energy states.\n",
    "\n",
    "That transfer of energy from electromagnetic to kinetic is heat. Heat is the transfer of energy by conduction or radiation. A usual misconception is that heat and temperature are the same.  \n",
    "<b> Heat in everyday language doesn't have the same meaning in the world of thermodynamics. </b>\n",
    "\n",
    "</font><br /> "
   ]
  }
 ],
 "metadata": {
  "anaconda-cloud": {},
  "kernelspec": {
   "display_name": "Python 3",
   "language": "python",
   "name": "python3"
  },
  "language_info": {
   "codemirror_mode": {
    "name": "ipython",
    "version": 3
   },
   "file_extension": ".py",
   "mimetype": "text/x-python",
   "name": "python",
   "nbconvert_exporter": "python",
   "pygments_lexer": "ipython3",
   "version": "3.4.2"
  }
 },
 "nbformat": 4,
 "nbformat_minor": 1
}
